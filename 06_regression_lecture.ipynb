{
 "cells": [
  {
   "cell_type": "markdown",
   "metadata": {},
   "source": [
    "# Contents <a id='top'></a>\n",
    "\n",
    "1. <a href=#eda>Data Exploration</a>\n",
    "1. <a href=#intro>Introduction to Regression</a>\n",
    "1. <a href=#resid>Residual Analysis</a>\n",
    "1. <a href=#simple>A Simple Model</a>\n",
    "1. <a href=#improvement>An Improvement</a>\n",
    "1. <a href=#ref>References and Links</a>"
   ]
  },
  {
   "cell_type": "markdown",
   "metadata": {},
   "source": [
    "<a id='eda'></a>\n",
    "# 1. Exploring Taiwan Dataset\n",
    "<a href=#top>(back to top)</a>\n",
    "\n",
    "For this tutorial, we shall work with a data set from the UCI machine learning repository. It contains real estate prices in the Xindian district of Taiwan. Our goal is to answer the following question:\n",
    "\n",
    "> How well can we explain real-estate prices in Taiwan?\n",
    "\n",
    "Let us first explore the dataset on [Tableau](https://prod-apnortheast-a.online.tableau.com/t/dsa1361ay1920/views/EDA/Dashboard1?:showAppBanner=false&:display_count=n&:showVizHome=n&:origin=viz_share_link).\n",
    "\n",
    "Here are some initial thoughts to keep in mind:\n",
    "\n",
    "1. There is one large outlier.\n",
    "2. It appears that having more convenience stores nearby relates to a higher house price.\n",
    "3. What other observations would you make?"
   ]
  },
  {
   "cell_type": "markdown",
   "metadata": {},
   "source": [
    "<a id='intro'></a>\n",
    "# 2. Introduction to Regression\n",
    "<a href=#top>(back to top)</a>\n",
    "\n",
    "## Model Definition\n",
    "\n",
    "A linear regression model relates a dependent variable ($y$) to several independent variables through an equation of the form:\n",
    "\n",
    "$$ y_i = \\beta_0 + \\beta_1 x_{1,i} + \\beta_2 x_{2,i} + \\cdots + \\beta_p x_{p-1,i} + \\epsilon_i $$\n",
    "\n",
    "The $y$ and $x$ are observed, but the $\\beta$'s and the $\\epsilon$'s are not. The index $i$ refers to a particular observation. Let us assume we have $n$ observations."
   ]
  },
  {
   "cell_type": "markdown",
   "metadata": {},
   "source": [
    "## Parameter Estimation\n",
    "\n",
    "To estimate the $\\beta$ values, we minimise a cost function. One of the most commonly used ones is the least squares objective function:\n",
    "\n",
    "$$\n",
    "\\sum_{i=1}^n (y_i - \\beta_0 - \\beta_1 x_{1,i} - \\beta_2 x_{2,i} - \\ldots \\beta_{p-1} x_{p-1,i})^2\n",
    "$$\n",
    "\n",
    "We denote the optimal estimates as $\\hat{\\beta}_0, \\hat{\\beta}_1, \\ldots, \\hat{\\beta}_{p-1}$. "
   ]
  },
  {
   "cell_type": "markdown",
   "metadata": {},
   "source": [
    "## Residuals\n",
    "\n",
    "Once we have the $\\hat{\\beta}$'s, we can compute **fitted values** by applying the equation back to the observed $x$ values. We can then compute **residuals**. There will be $n$ residuals, one for each observation that we have. We are going to use the residuals to help improve our model fit.\n",
    "\n",
    "$$\n",
    "\\hat{y_i} =  \\hat{\\beta}_0 + \\hat{\\beta}_1 x_{1,i} + \\hat{\\beta}_2 x_{2,i} +\n",
    "\\cdots + \\hat{\\beta}_{p-1} x_{p-1,i}\n",
    "$$ \n",
    "\n",
    "Residuals are defined to be \n",
    "$$\n",
    "r_i = y_i - \\hat{y_i}\n",
    "$$\n",
    "\n",
    "Here is what me mean, in a **simple** linear regression setting. The red values are the fitted values.\n",
    "\n",
    "<img src=\"../figs/residuals-1.png\" style=\"width: 600px;\"/>"
   ]
  },
  {
   "cell_type": "markdown",
   "metadata": {},
   "source": [
    "<a id='resid'></a>\n",
    "# 3. Residual Analysis\n",
    "<a href=#top>(back to top)</a>\n",
    "\n",
    "## Influential Points\n",
    "\n",
    "Some points in our dataset will influence the coefficients, and thus fitted values, and thus the residuals more than others. We need to identify these and study them, because we do not want our model driven by these chance occurences or wild points. Typically, influential points have one or both these properties:\n",
    "\n",
    "1. They may be far away from their neighbours in the predictor space.\n",
    "2. They may have an unduly large residual.\n",
    "\n",
    "### On Coefficients\n",
    "\n",
    "To see if point $i$ is influential on coefficient $j$, we \n",
    "\n",
    "* Estimate the model coefficients with all the data points.\n",
    "* Leave out the observations $(x_i, y_i)$ one at a time and re-estimate the model coefficients.\n",
    "* Compare the $\\beta_j$'s ($n$ of them) from step 2 with the original estimate from step 1.  \n",
    "\n",
    "<img src=\"../figs/inf_coef-1.png\" style=\"width: 450px;\"/>"
   ]
  },
  {
   "cell_type": "markdown",
   "metadata": {},
   "source": [
    "### On Fitted Values\n",
    "\n",
    "To assess the influence of each point on the fitted values, we use Cook's Distance, which is given by this formula:\n",
    "\n",
    "$$\n",
    "D_i = \\frac{\\sum_{j=1}^n (\\hat{y}_j - \\hat{y}_{j,-i})^2}{p s^2}$$\n",
    "\n",
    "where \n",
    "*   $\\hat{y}_{j,-i}$ is the fitted value for $y_j$ using the model that is fitted without observation $i$.\n",
    "* $p$ is the number of predictors. In the diagrams above, we are considering only one predictor $x$ for the response variable $y$, and thus call it \"simple\" as opposed to \"multiple\" linear regression.\n",
    "* $s^2$ is a measure of the variance of $\\epsilon$; it is computed as\n",
    "$$ \n",
    "  s^2 = \\frac{1}{n-p} \\sum_{i=1}^n r_i^2\n",
    "$$\n",
    "\n",
    "We typically set aside and investigate the 3 - 4 most influential points at each iteration of our analysis."
   ]
  },
  {
   "cell_type": "markdown",
   "metadata": {},
   "source": [
    "## Residual Plots\n",
    "\n",
    "We plot residuals against\n",
    "* fitted values.\n",
    "* explanatory variables one at a time.\n",
    "\n",
    "\n",
    "<img src=\"../figs/residual_patterns-1.png\" style=\"width: 800px;\"/>"
   ]
  },
  {
   "cell_type": "markdown",
   "metadata": {},
   "source": [
    "## Other Residual Plots\n",
    "\n",
    "Other plots that could (and should be) be made are\n",
    "* Residuals against time order of data collection.\n",
    "* Residuals against new variables to be considered for addition into the model.\n",
    "* Residuals against a product of existing variables to check for interaction.\n",
    "* QQ plots\n",
    "<img src=\"../figs/qq_ex_1-1.png\" style=\"width: 800px;\"/>\n"
   ]
  },
  {
   "cell_type": "markdown",
   "metadata": {},
   "source": [
    "## Assessing Model Fit\n",
    "\n",
    "We can compute the $R^2$ of a model to assess how well it explains the variability in the observed values.\n",
    "\n",
    "$$ \n",
    "R^2 = 1 - \\frac{\\sum_{i=1}^n r^2_i}{\\sum_{i=1}^n (y_i - \\bar{y})^2}\n",
    "$$\n",
    "\n",
    "A value close to 1 is better than a value close to 0. However, the $R^2$ can be misleading since it can be artificially increased by adding more predictors. Hence we usually look at the adjusted $R^2$, which penalises a model for using too many explanatory variables.\n",
    "\n",
    "$$ \\text{adjusted } R^2 = 1 - \\frac{\\frac{1}{n-1-p}\\sum_{i=1}^n\n",
    "r^2_i}{\\frac{1}{n-1}\\sum_{i=1}^n (y_i - \\bar{y})^2}$$\n",
    "\n",
    "Another statistic I tend to compute is the Predictive Residual Sum of Squares. It yields some indication of how well the model can generalise.\n",
    "\n",
    "  $$ \\sum_{i=1}^n (\\hat{y}_{-i} - y_i)^2 $$\n",
    "  \n",
    "To get this quantity back to the scale of the original \\(y\\)-variable, we compute the root mean squared prediction error: \n",
    "$$ \n",
    "  RMSPE = \\sqrt{\\frac{1}{n}\\sum_{i=1}^n (\\hat{y}_{-i} - y_i)^2}\n",
    "$$\n"
   ]
  },
  {
   "cell_type": "markdown",
   "metadata": {},
   "source": [
    "<a id='simple'></a>\n",
    "# 4. A Simple Model\n",
    "<a href=#top>(back to top)</a>\n",
    "\n",
    "Let's begin with a simple model:\n",
    "$$\n",
    "\\text{price} = \\beta_0 + \\beta_1 \\text{age} + \\beta_2 \\text{dist} + \n",
    "\\beta_3 \\text{(num. of stores)}  + \\beta_4 \\text{X} + \\beta_5 \\text{Y} + \\epsilon\n",
    "$$\n",
    "\n",
    "Note that $p=5$ in this case."
   ]
  },
  {
   "cell_type": "code",
   "execution_count": 1,
   "metadata": {},
   "outputs": [],
   "source": [
    "import pandas as pd\n",
    "import numpy as np\n",
    "\n",
    "import matplotlib.pyplot as plt\n",
    "%matplotlib inline"
   ]
  },
  {
   "cell_type": "code",
   "execution_count": 2,
   "metadata": {},
   "outputs": [],
   "source": [
    "re2 = pd.read_csv(\"../data/taiwan_dataset.csv\")"
   ]
  },
  {
   "cell_type": "code",
   "execution_count": 3,
   "metadata": {},
   "outputs": [
    {
     "data": {
      "text/html": [
       "<div>\n",
       "<style scoped>\n",
       "    .dataframe tbody tr th:only-of-type {\n",
       "        vertical-align: middle;\n",
       "    }\n",
       "\n",
       "    .dataframe tbody tr th {\n",
       "        vertical-align: top;\n",
       "    }\n",
       "\n",
       "    .dataframe thead th {\n",
       "        text-align: right;\n",
       "    }\n",
       "</style>\n",
       "<table border=\"1\" class=\"dataframe\">\n",
       "  <thead>\n",
       "    <tr style=\"text-align: right;\">\n",
       "      <th></th>\n",
       "      <th>id</th>\n",
       "      <th>trans_date</th>\n",
       "      <th>house_age</th>\n",
       "      <th>dist_MRT</th>\n",
       "      <th>num_stores</th>\n",
       "      <th>lat</th>\n",
       "      <th>long</th>\n",
       "      <th>price</th>\n",
       "      <th>X</th>\n",
       "      <th>Y</th>\n",
       "      <th>Xs</th>\n",
       "      <th>Ys</th>\n",
       "    </tr>\n",
       "  </thead>\n",
       "  <tbody>\n",
       "    <tr>\n",
       "      <th>0</th>\n",
       "      <td>1</td>\n",
       "      <td>2012.916667</td>\n",
       "      <td>32.0</td>\n",
       "      <td>84.87882</td>\n",
       "      <td>10</td>\n",
       "      <td>24.98298</td>\n",
       "      <td>121.54024</td>\n",
       "      <td>37.9</td>\n",
       "      <td>506501.554580</td>\n",
       "      <td>2.766295e+06</td>\n",
       "      <td>0.666075</td>\n",
       "      <td>1.559003</td>\n",
       "    </tr>\n",
       "    <tr>\n",
       "      <th>1</th>\n",
       "      <td>2</td>\n",
       "      <td>2012.916667</td>\n",
       "      <td>19.5</td>\n",
       "      <td>306.59470</td>\n",
       "      <td>9</td>\n",
       "      <td>24.98034</td>\n",
       "      <td>121.53951</td>\n",
       "      <td>42.2</td>\n",
       "      <td>506433.292007</td>\n",
       "      <td>2.766001e+06</td>\n",
       "      <td>0.597812</td>\n",
       "      <td>1.265025</td>\n",
       "    </tr>\n",
       "    <tr>\n",
       "      <th>2</th>\n",
       "      <td>3</td>\n",
       "      <td>2013.583333</td>\n",
       "      <td>13.3</td>\n",
       "      <td>561.98450</td>\n",
       "      <td>5</td>\n",
       "      <td>24.98746</td>\n",
       "      <td>121.54391</td>\n",
       "      <td>47.3</td>\n",
       "      <td>506862.973688</td>\n",
       "      <td>2.766798e+06</td>\n",
       "      <td>1.027494</td>\n",
       "      <td>2.062484</td>\n",
       "    </tr>\n",
       "    <tr>\n",
       "      <th>3</th>\n",
       "      <td>4</td>\n",
       "      <td>2013.500000</td>\n",
       "      <td>13.3</td>\n",
       "      <td>561.98450</td>\n",
       "      <td>5</td>\n",
       "      <td>24.98746</td>\n",
       "      <td>121.54391</td>\n",
       "      <td>54.8</td>\n",
       "      <td>506862.973688</td>\n",
       "      <td>2.766798e+06</td>\n",
       "      <td>1.027494</td>\n",
       "      <td>2.062484</td>\n",
       "    </tr>\n",
       "    <tr>\n",
       "      <th>4</th>\n",
       "      <td>5</td>\n",
       "      <td>2012.833333</td>\n",
       "      <td>5.0</td>\n",
       "      <td>390.56840</td>\n",
       "      <td>5</td>\n",
       "      <td>24.97937</td>\n",
       "      <td>121.54245</td>\n",
       "      <td>43.1</td>\n",
       "      <td>506732.307872</td>\n",
       "      <td>2.765899e+06</td>\n",
       "      <td>0.896828</td>\n",
       "      <td>1.163084</td>\n",
       "    </tr>\n",
       "  </tbody>\n",
       "</table>\n",
       "</div>"
      ],
      "text/plain": [
       "   id   trans_date  house_age   dist_MRT  num_stores       lat       long  \\\n",
       "0   1  2012.916667       32.0   84.87882          10  24.98298  121.54024   \n",
       "1   2  2012.916667       19.5  306.59470           9  24.98034  121.53951   \n",
       "2   3  2013.583333       13.3  561.98450           5  24.98746  121.54391   \n",
       "3   4  2013.500000       13.3  561.98450           5  24.98746  121.54391   \n",
       "4   5  2012.833333        5.0  390.56840           5  24.97937  121.54245   \n",
       "\n",
       "   price              X             Y        Xs        Ys  \n",
       "0   37.9  506501.554580  2.766295e+06  0.666075  1.559003  \n",
       "1   42.2  506433.292007  2.766001e+06  0.597812  1.265025  \n",
       "2   47.3  506862.973688  2.766798e+06  1.027494  2.062484  \n",
       "3   54.8  506862.973688  2.766798e+06  1.027494  2.062484  \n",
       "4   43.1  506732.307872  2.765899e+06  0.896828  1.163084  "
      ]
     },
     "execution_count": 3,
     "metadata": {},
     "output_type": "execute_result"
    }
   ],
   "source": [
    "re2.head()"
   ]
  },
  {
   "cell_type": "code",
   "execution_count": 4,
   "metadata": {},
   "outputs": [
    {
     "name": "stderr",
     "output_type": "stream",
     "text": [
      "/home/vik/NUS/coursesTaught/ind5003/lib/python3.6/site-packages/statsmodels/tools/_testing.py:19: FutureWarning: pandas.util.testing is deprecated. Use the functions in the public API at pandas.testing instead.\n",
      "  import pandas.util.testing as tm\n"
     ]
    }
   ],
   "source": [
    "import statsmodels.api as sm\n",
    "import statsmodels.stats.outliers_influence as oinf"
   ]
  },
  {
   "cell_type": "code",
   "execution_count": 7,
   "metadata": {},
   "outputs": [],
   "source": [
    "X = re2[['house_age', 'dist_MRT', 'num_stores', 'Xs', 'Ys']]\n",
    "y = re2.price\n",
    "X = sm.add_constant(X)"
   ]
  },
  {
   "cell_type": "code",
   "execution_count": 8,
   "metadata": {},
   "outputs": [
    {
     "data": {
      "text/html": [
       "<table class=\"simpletable\">\n",
       "<caption>OLS Regression Results</caption>\n",
       "<tr>\n",
       "  <th>Dep. Variable:</th>          <td>price</td>      <th>  R-squared:         </th> <td>   0.571</td>\n",
       "</tr>\n",
       "<tr>\n",
       "  <th>Model:</th>                   <td>OLS</td>       <th>  Adj. R-squared:    </th> <td>   0.566</td>\n",
       "</tr>\n",
       "<tr>\n",
       "  <th>Method:</th>             <td>Least Squares</td>  <th>  F-statistic:       </th> <td>   108.7</td>\n",
       "</tr>\n",
       "<tr>\n",
       "  <th>Date:</th>             <td>Wed, 08 Jul 2020</td> <th>  Prob (F-statistic):</th> <td>9.32e-73</td>\n",
       "</tr>\n",
       "<tr>\n",
       "  <th>Time:</th>                 <td>10:41:27</td>     <th>  Log-Likelihood:    </th> <td> -1492.4</td>\n",
       "</tr>\n",
       "<tr>\n",
       "  <th>No. Observations:</th>      <td>   414</td>      <th>  AIC:               </th> <td>   2997.</td>\n",
       "</tr>\n",
       "<tr>\n",
       "  <th>Df Residuals:</th>          <td>   408</td>      <th>  BIC:               </th> <td>   3021.</td>\n",
       "</tr>\n",
       "<tr>\n",
       "  <th>Df Model:</th>              <td>     5</td>      <th>                     </th>     <td> </td>   \n",
       "</tr>\n",
       "<tr>\n",
       "  <th>Covariance Type:</th>      <td>nonrobust</td>    <th>                     </th>     <td> </td>   \n",
       "</tr>\n",
       "</table>\n",
       "<table class=\"simpletable\">\n",
       "<tr>\n",
       "       <td></td>         <th>coef</th>     <th>std err</th>      <th>t</th>      <th>P>|t|</th>  <th>[0.025</th>    <th>0.975]</th>  \n",
       "</tr>\n",
       "<tr>\n",
       "  <th>const</th>      <td>   42.5990</td> <td>    1.490</td> <td>   28.598</td> <td> 0.000</td> <td>   39.671</td> <td>   45.527</td>\n",
       "</tr>\n",
       "<tr>\n",
       "  <th>house_age</th>  <td>   -0.2689</td> <td>    0.039</td> <td>   -6.896</td> <td> 0.000</td> <td>   -0.346</td> <td>   -0.192</td>\n",
       "</tr>\n",
       "<tr>\n",
       "  <th>dist_MRT</th>   <td>   -0.0043</td> <td>    0.001</td> <td>   -5.889</td> <td> 0.000</td> <td>   -0.006</td> <td>   -0.003</td>\n",
       "</tr>\n",
       "<tr>\n",
       "  <th>num_stores</th> <td>    1.1630</td> <td>    0.190</td> <td>    6.114</td> <td> 0.000</td> <td>    0.789</td> <td>    1.537</td>\n",
       "</tr>\n",
       "<tr>\n",
       "  <th>Xs</th>         <td>   -0.1177</td> <td>    0.485</td> <td>   -0.242</td> <td> 0.809</td> <td>   -1.072</td> <td>    0.837</td>\n",
       "</tr>\n",
       "<tr>\n",
       "  <th>Ys</th>         <td>    2.1432</td> <td>    0.407</td> <td>    5.271</td> <td> 0.000</td> <td>    1.344</td> <td>    2.943</td>\n",
       "</tr>\n",
       "</table>\n",
       "<table class=\"simpletable\">\n",
       "<tr>\n",
       "  <th>Omnibus:</th>       <td>240.066</td> <th>  Durbin-Watson:     </th> <td>   2.149</td>\n",
       "</tr>\n",
       "<tr>\n",
       "  <th>Prob(Omnibus):</th> <td> 0.000</td>  <th>  Jarque-Bera (JB):  </th> <td>3748.679</td>\n",
       "</tr>\n",
       "<tr>\n",
       "  <th>Skew:</th>          <td> 2.129</td>  <th>  Prob(JB):          </th> <td>    0.00</td>\n",
       "</tr>\n",
       "<tr>\n",
       "  <th>Kurtosis:</th>      <td>17.113</td>  <th>  Cond. No.          </th> <td>5.70e+03</td>\n",
       "</tr>\n",
       "</table><br/><br/>Warnings:<br/>[1] Standard Errors assume that the covariance matrix of the errors is correctly specified.<br/>[2] The condition number is large, 5.7e+03. This might indicate that there are<br/>strong multicollinearity or other numerical problems."
      ],
      "text/plain": [
       "<class 'statsmodels.iolib.summary.Summary'>\n",
       "\"\"\"\n",
       "                            OLS Regression Results                            \n",
       "==============================================================================\n",
       "Dep. Variable:                  price   R-squared:                       0.571\n",
       "Model:                            OLS   Adj. R-squared:                  0.566\n",
       "Method:                 Least Squares   F-statistic:                     108.7\n",
       "Date:                Wed, 08 Jul 2020   Prob (F-statistic):           9.32e-73\n",
       "Time:                        10:41:27   Log-Likelihood:                -1492.4\n",
       "No. Observations:                 414   AIC:                             2997.\n",
       "Df Residuals:                     408   BIC:                             3021.\n",
       "Df Model:                           5                                         \n",
       "Covariance Type:            nonrobust                                         \n",
       "==============================================================================\n",
       "                 coef    std err          t      P>|t|      [0.025      0.975]\n",
       "------------------------------------------------------------------------------\n",
       "const         42.5990      1.490     28.598      0.000      39.671      45.527\n",
       "house_age     -0.2689      0.039     -6.896      0.000      -0.346      -0.192\n",
       "dist_MRT      -0.0043      0.001     -5.889      0.000      -0.006      -0.003\n",
       "num_stores     1.1630      0.190      6.114      0.000       0.789       1.537\n",
       "Xs            -0.1177      0.485     -0.242      0.809      -1.072       0.837\n",
       "Ys             2.1432      0.407      5.271      0.000       1.344       2.943\n",
       "==============================================================================\n",
       "Omnibus:                      240.066   Durbin-Watson:                   2.149\n",
       "Prob(Omnibus):                  0.000   Jarque-Bera (JB):             3748.679\n",
       "Skew:                           2.129   Prob(JB):                         0.00\n",
       "Kurtosis:                      17.113   Cond. No.                     5.70e+03\n",
       "==============================================================================\n",
       "\n",
       "Warnings:\n",
       "[1] Standard Errors assume that the covariance matrix of the errors is correctly specified.\n",
       "[2] The condition number is large, 5.7e+03. This might indicate that there are\n",
       "strong multicollinearity or other numerical problems.\n",
       "\"\"\""
      ]
     },
     "execution_count": 8,
     "metadata": {},
     "output_type": "execute_result"
    }
   ],
   "source": [
    "s_model = sm.OLS(y, X)\n",
    "s_results = s_model.fit()\n",
    "s_results.summary()"
   ]
  },
  {
   "cell_type": "markdown",
   "metadata": {},
   "source": [
    "The adjusted $R^2$ is approximately 0.57, but there is a warning about high condition number and numerical instability. If we look at the coefficients, the MRT distance is very small yet highly significant. The scale of the MRT distance is too large compared to the rest. This is probably causing the matrix inversion to be unstable. Additionally, the coefficient for the X-variable does not seem to be significant."
   ]
  },
  {
   "cell_type": "code",
   "execution_count": 9,
   "metadata": {},
   "outputs": [],
   "source": [
    "s_results_inf = s_results.get_influence()\n",
    "r_star = s_results_inf.get_resid_studentized_external()"
   ]
  },
  {
   "cell_type": "code",
   "execution_count": 12,
   "metadata": {},
   "outputs": [],
   "source": [
    "PRESS = np.sqrt((s_results_inf.resid_press**2).mean())"
   ]
  },
  {
   "cell_type": "code",
   "execution_count": 10,
   "metadata": {
    "scrolled": true
   },
   "outputs": [
    {
     "data": {
      "text/html": [
       "<div>\n",
       "<style scoped>\n",
       "    .dataframe tbody tr th:only-of-type {\n",
       "        vertical-align: middle;\n",
       "    }\n",
       "\n",
       "    .dataframe tbody tr th {\n",
       "        vertical-align: top;\n",
       "    }\n",
       "\n",
       "    .dataframe thead th {\n",
       "        text-align: right;\n",
       "    }\n",
       "</style>\n",
       "<table border=\"1\" class=\"dataframe\">\n",
       "  <thead>\n",
       "    <tr style=\"text-align: right;\">\n",
       "      <th></th>\n",
       "      <th>const</th>\n",
       "      <th>house_age</th>\n",
       "      <th>dist_MRT</th>\n",
       "      <th>num_stores</th>\n",
       "      <th>Xs</th>\n",
       "      <th>Ys</th>\n",
       "    </tr>\n",
       "  </thead>\n",
       "  <tbody>\n",
       "    <tr>\n",
       "      <th>0</th>\n",
       "      <td>1.0</td>\n",
       "      <td>32.0</td>\n",
       "      <td>84.87882</td>\n",
       "      <td>10</td>\n",
       "      <td>0.666075</td>\n",
       "      <td>1.559003</td>\n",
       "    </tr>\n",
       "    <tr>\n",
       "      <th>1</th>\n",
       "      <td>1.0</td>\n",
       "      <td>19.5</td>\n",
       "      <td>306.59470</td>\n",
       "      <td>9</td>\n",
       "      <td>0.597812</td>\n",
       "      <td>1.265025</td>\n",
       "    </tr>\n",
       "    <tr>\n",
       "      <th>2</th>\n",
       "      <td>1.0</td>\n",
       "      <td>13.3</td>\n",
       "      <td>561.98450</td>\n",
       "      <td>5</td>\n",
       "      <td>1.027494</td>\n",
       "      <td>2.062484</td>\n",
       "    </tr>\n",
       "    <tr>\n",
       "      <th>3</th>\n",
       "      <td>1.0</td>\n",
       "      <td>13.3</td>\n",
       "      <td>561.98450</td>\n",
       "      <td>5</td>\n",
       "      <td>1.027494</td>\n",
       "      <td>2.062484</td>\n",
       "    </tr>\n",
       "    <tr>\n",
       "      <th>4</th>\n",
       "      <td>1.0</td>\n",
       "      <td>5.0</td>\n",
       "      <td>390.56840</td>\n",
       "      <td>5</td>\n",
       "      <td>0.896828</td>\n",
       "      <td>1.163084</td>\n",
       "    </tr>\n",
       "  </tbody>\n",
       "</table>\n",
       "</div>"
      ],
      "text/plain": [
       "   const  house_age   dist_MRT  num_stores        Xs        Ys\n",
       "0    1.0       32.0   84.87882          10  0.666075  1.559003\n",
       "1    1.0       19.5  306.59470           9  0.597812  1.265025\n",
       "2    1.0       13.3  561.98450           5  1.027494  2.062484\n",
       "3    1.0       13.3  561.98450           5  1.027494  2.062484\n",
       "4    1.0        5.0  390.56840           5  0.896828  1.163084"
      ]
     },
     "execution_count": 10,
     "metadata": {},
     "output_type": "execute_result"
    }
   ],
   "source": [
    "X.head()"
   ]
  },
  {
   "cell_type": "markdown",
   "metadata": {},
   "source": [
    "Here is a panel of residual plots. Take a close look at them, and identify which points you should investigate further."
   ]
  },
  {
   "cell_type": "code",
   "execution_count": 11,
   "metadata": {
    "scrolled": false
   },
   "outputs": [
    {
     "data": {
      "image/png": "[encoded data removed]",
      "text/plain": [
       "<Figure size 1008x576 with 6 Axes>"
      ]
     },
     "metadata": {
      "needs_background": "light"
     },
     "output_type": "display_data"
    }
   ],
   "source": [
    "f, axs = plt.subplots(2, 3, squeeze=False, figsize=(14,8))\n",
    "\n",
    "for i,cc in enumerate(X.columns[1:]):\n",
    "    plt.subplot(2,3, i+1)\n",
    "    plt.scatter(X[cc], r_star, alpha=0.8)\n",
    "    plt.title(cc)\n",
    "\n",
    "plt.subplot(236)\n",
    "plt.scatter(s_results.fittedvalues, r_star, alpha=0.8)\n",
    "plt.title('Fitted Values');"
   ]
  },
  {
   "cell_type": "markdown",
   "metadata": {},
   "source": [
    "Now here are the differences in beta coefficient values, along with the Cook's distance plot. There is one point that is very influential. Isolate this point."
   ]
  },
  {
   "cell_type": "code",
   "execution_count": 13,
   "metadata": {
    "scrolled": true
   },
   "outputs": [
    {
     "data": {
      "image/png": "[encoded data removed]",
      "text/plain": [
       "<Figure size 1080x360 with 3 Axes>"
      ]
     },
     "metadata": {
      "needs_background": "light"
     },
     "output_type": "display_data"
    }
   ],
   "source": [
    "plt.figure(figsize=(15,5))\n",
    "plt.subplot(131)\n",
    "plt.scatter(np.arange(414), s_results_inf.dfbetas[:,2]);plt.title('betadiff: MRT');plt.xlabel('id');\n",
    "plt.subplot(132)\n",
    "plt.scatter(np.arange(414), s_results_inf.dfbetas[:,3]);plt.title('betadiff: num. stores');plt.xlabel('id');\n",
    "plt.subplot(133)\n",
    "plt.scatter(np.arange(414), s_results_inf.cooks_distance[0]);plt.title('Cooks Distance');plt.xlabel('id');"
   ]
  },
  {
   "cell_type": "code",
   "execution_count": 14,
   "metadata": {
    "scrolled": true
   },
   "outputs": [
    {
     "data": {
      "image/png": "[encoded data removed]",
      "text/plain": [
       "<Figure size 1080x288 with 3 Axes>"
      ]
     },
     "metadata": {
      "needs_background": "light"
     },
     "output_type": "display_data"
    }
   ],
   "source": [
    "from dsa1361.inference import check_normality as cn\n",
    "\n",
    "cn(pd.Series(r_star))\n",
    "#oinf.variance_inflation_factor(X.iloc[:,1:].to_numpy(), 1)"
   ]
  },
  {
   "cell_type": "markdown",
   "metadata": {},
   "source": [
    "Here are some of the things we can try to remedy:\n",
    "\n",
    "1. distance should be transformed.\n",
    "2. There is still a little remaining curvature in age.\n",
    "3. There is one outlier that is also influential (on fits and on the coefficients).\n",
    "4. X is not significant.\n",
    "5. Is the residuals vs. fitted indicating right-skewness?"
   ]
  },
  {
   "cell_type": "markdown",
   "metadata": {},
   "source": [
    "<a id='improvement'></a>\n",
    "# 5. An Improvement\n",
    "<a href=#top>(back to top)</a>\n",
    "\n",
    "Let's try two things first, to see if we can improve the adjusted $R^2$: take a log transform of the distance, and drop the influential point (point number 271)."
   ]
  },
  {
   "cell_type": "code",
   "execution_count": 15,
   "metadata": {},
   "outputs": [],
   "source": [
    "X2 = re2.loc[:, ['house_age', 'num_stores', 'Xs', 'Ys']]\n",
    "X2.loc[:, 'ldist'] = np.log(X.dist_MRT)"
   ]
  },
  {
   "cell_type": "code",
   "execution_count": 16,
   "metadata": {},
   "outputs": [],
   "source": [
    "y2 = y.drop(270)\n",
    "X2 = X2.drop(index=270)\n",
    "\n",
    "X2 = sm.add_constant(X2)"
   ]
  },
  {
   "cell_type": "code",
   "execution_count": 17,
   "metadata": {},
   "outputs": [
    {
     "data": {
      "text/html": [
       "<table class=\"simpletable\">\n",
       "<caption>OLS Regression Results</caption>\n",
       "<tr>\n",
       "  <th>Dep. Variable:</th>          <td>price</td>      <th>  R-squared:         </th> <td>   0.678</td>\n",
       "</tr>\n",
       "<tr>\n",
       "  <th>Model:</th>                   <td>OLS</td>       <th>  Adj. R-squared:    </th> <td>   0.674</td>\n",
       "</tr>\n",
       "<tr>\n",
       "  <th>Method:</th>             <td>Least Squares</td>  <th>  F-statistic:       </th> <td>   171.1</td>\n",
       "</tr>\n",
       "<tr>\n",
       "  <th>Date:</th>             <td>Wed, 08 Jul 2020</td> <th>  Prob (F-statistic):</th> <td>1.12e-97</td>\n",
       "</tr>\n",
       "<tr>\n",
       "  <th>Time:</th>                 <td>10:46:40</td>     <th>  Log-Likelihood:    </th> <td> -1412.6</td>\n",
       "</tr>\n",
       "<tr>\n",
       "  <th>No. Observations:</th>      <td>   413</td>      <th>  AIC:               </th> <td>   2837.</td>\n",
       "</tr>\n",
       "<tr>\n",
       "  <th>Df Residuals:</th>          <td>   407</td>      <th>  BIC:               </th> <td>   2861.</td>\n",
       "</tr>\n",
       "<tr>\n",
       "  <th>Df Model:</th>              <td>     5</td>      <th>                     </th>     <td> </td>   \n",
       "</tr>\n",
       "<tr>\n",
       "  <th>Covariance Type:</th>      <td>nonrobust</td>    <th>                     </th>     <td> </td>   \n",
       "</tr>\n",
       "</table>\n",
       "<table class=\"simpletable\">\n",
       "<tr>\n",
       "       <td></td>         <th>coef</th>     <th>std err</th>      <th>t</th>      <th>P>|t|</th>  <th>[0.025</th>    <th>0.975]</th>  \n",
       "</tr>\n",
       "<tr>\n",
       "  <th>const</th>      <td>   75.9892</td> <td>    3.880</td> <td>   19.584</td> <td> 0.000</td> <td>   68.361</td> <td>   83.617</td>\n",
       "</tr>\n",
       "<tr>\n",
       "  <th>house_age</th>  <td>   -0.2263</td> <td>    0.033</td> <td>   -6.933</td> <td> 0.000</td> <td>   -0.290</td> <td>   -0.162</td>\n",
       "</tr>\n",
       "<tr>\n",
       "  <th>num_stores</th> <td>    0.6330</td> <td>    0.177</td> <td>    3.578</td> <td> 0.000</td> <td>    0.285</td> <td>    0.981</td>\n",
       "</tr>\n",
       "<tr>\n",
       "  <th>Xs</th>         <td>    0.3179</td> <td>    0.317</td> <td>    1.002</td> <td> 0.317</td> <td>   -0.306</td> <td>    0.942</td>\n",
       "</tr>\n",
       "<tr>\n",
       "  <th>Ys</th>         <td>    2.5434</td> <td>    0.311</td> <td>    8.184</td> <td> 0.000</td> <td>    1.932</td> <td>    3.154</td>\n",
       "</tr>\n",
       "<tr>\n",
       "  <th>ldist</th>      <td>   -5.7528</td> <td>    0.539</td> <td>  -10.674</td> <td> 0.000</td> <td>   -6.812</td> <td>   -4.693</td>\n",
       "</tr>\n",
       "</table>\n",
       "<table class=\"simpletable\">\n",
       "<tr>\n",
       "  <th>Omnibus:</th>       <td>103.399</td> <th>  Durbin-Watson:     </th> <td>   1.994</td>\n",
       "</tr>\n",
       "<tr>\n",
       "  <th>Prob(Omnibus):</th> <td> 0.000</td>  <th>  Jarque-Bera (JB):  </th> <td> 429.342</td>\n",
       "</tr>\n",
       "<tr>\n",
       "  <th>Skew:</th>          <td> 1.037</td>  <th>  Prob(JB):          </th> <td>5.88e-94</td>\n",
       "</tr>\n",
       "<tr>\n",
       "  <th>Kurtosis:</th>      <td> 7.544</td>  <th>  Cond. No.          </th> <td>    236.</td>\n",
       "</tr>\n",
       "</table><br/><br/>Warnings:<br/>[1] Standard Errors assume that the covariance matrix of the errors is correctly specified."
      ],
      "text/plain": [
       "<class 'statsmodels.iolib.summary.Summary'>\n",
       "\"\"\"\n",
       "                            OLS Regression Results                            \n",
       "==============================================================================\n",
       "Dep. Variable:                  price   R-squared:                       0.678\n",
       "Model:                            OLS   Adj. R-squared:                  0.674\n",
       "Method:                 Least Squares   F-statistic:                     171.1\n",
       "Date:                Wed, 08 Jul 2020   Prob (F-statistic):           1.12e-97\n",
       "Time:                        10:46:40   Log-Likelihood:                -1412.6\n",
       "No. Observations:                 413   AIC:                             2837.\n",
       "Df Residuals:                     407   BIC:                             2861.\n",
       "Df Model:                           5                                         \n",
       "Covariance Type:            nonrobust                                         \n",
       "==============================================================================\n",
       "                 coef    std err          t      P>|t|      [0.025      0.975]\n",
       "------------------------------------------------------------------------------\n",
       "const         75.9892      3.880     19.584      0.000      68.361      83.617\n",
       "house_age     -0.2263      0.033     -6.933      0.000      -0.290      -0.162\n",
       "num_stores     0.6330      0.177      3.578      0.000       0.285       0.981\n",
       "Xs             0.3179      0.317      1.002      0.317      -0.306       0.942\n",
       "Ys             2.5434      0.311      8.184      0.000       1.932       3.154\n",
       "ldist         -5.7528      0.539    -10.674      0.000      -6.812      -4.693\n",
       "==============================================================================\n",
       "Omnibus:                      103.399   Durbin-Watson:                   1.994\n",
       "Prob(Omnibus):                  0.000   Jarque-Bera (JB):              429.342\n",
       "Skew:                           1.037   Prob(JB):                     5.88e-94\n",
       "Kurtosis:                       7.544   Cond. No.                         236.\n",
       "==============================================================================\n",
       "\n",
       "Warnings:\n",
       "[1] Standard Errors assume that the covariance matrix of the errors is correctly specified.\n",
       "\"\"\""
      ]
     },
     "execution_count": 17,
     "metadata": {},
     "output_type": "execute_result"
    }
   ],
   "source": [
    "s2_model = sm.OLS(y2, X2)\n",
    "s2_results = s2_model.fit()\n",
    "s2_results.summary()"
   ]
  },
  {
   "cell_type": "markdown",
   "metadata": {},
   "source": [
    "The warning about numerical instability disappears, the coefficient for distance is significant and the adjusted $R^2$ has gone up."
   ]
  },
  {
   "cell_type": "code",
   "execution_count": 18,
   "metadata": {},
   "outputs": [],
   "source": [
    "s2_results_inf = s2_results.get_influence()\n",
    "r2_star = s2_results_inf.get_resid_studentized_external()"
   ]
  },
  {
   "cell_type": "code",
   "execution_count": 19,
   "metadata": {},
   "outputs": [],
   "source": [
    "PRESS2 = np.sqrt((s2_results_inf.resid_press**2).mean())"
   ]
  },
  {
   "cell_type": "code",
   "execution_count": 20,
   "metadata": {
    "scrolled": true
   },
   "outputs": [
    {
     "data": {
      "image/png": "[encoded data removed]",
      "text/plain": [
       "<Figure size 1080x288 with 3 Axes>"
      ]
     },
     "metadata": {
      "needs_background": "light"
     },
     "output_type": "display_data"
    }
   ],
   "source": [
    "cn(pd.Series(r2_star))"
   ]
  },
  {
   "cell_type": "markdown",
   "metadata": {},
   "source": [
    "The adjusted $R^2$ has improved, and so has the PRESS. There were a few other modifications that we had considered. Let's go ahead and try them out."
   ]
  },
  {
   "cell_type": "markdown",
   "metadata": {},
   "source": [
    "<a id='ref'></a>\n",
    "# 6. References\n",
    "<a href=#top>(back to top)</a>\n",
    "\n",
    "1. [statsmodels API](https://www.statsmodels.org/dev/examples/notebooks/generated/ols.html#examples-notebooks-generated-ols--page-root) The documentation is not as good as sklearn, but still decent.\n",
    "2. Applied Regression Analysis, by Draper and Smith."
   ]
  }
 ],
 "metadata": {
  "kernelspec": {
   "display_name": "Python 3",
   "language": "python",
   "name": "python3"
  },
  "language_info": {
   "codemirror_mode": {
    "name": "ipython",
    "version": 3
   },
   "file_extension": ".py",
   "mimetype": "text/x-python",
   "name": "python",
   "nbconvert_exporter": "python",
   "pygments_lexer": "ipython3",
   "version": "3.8.3"
  }
 },
 "nbformat": 4,
 "nbformat_minor": 4
}
